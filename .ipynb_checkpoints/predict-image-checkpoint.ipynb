{
 "cells": [
  {
   "cell_type": "code",
   "execution_count": 2,
   "id": "6b4eddd0",
   "metadata": {},
   "outputs": [],
   "source": [
    "import streamlit as st\n",
    "import cv2\n",
    "import numpy as np\n",
    "from tensorflow.keras.models import load_model"
   ]
  },
  {
   "cell_type": "code",
   "execution_count": 3,
   "id": "fc65d058",
   "metadata": {},
   "outputs": [
    {
     "name": "stderr",
     "output_type": "stream",
     "text": [
      "WARNING:absl:Compiled the loaded model, but the compiled metrics have yet to be built. `model.compile_metrics` will be empty until you train or evaluate the model.\n"
     ]
    }
   ],
   "source": [
    "# Load the trained model\n",
    "model = load_model('skin_cancer_detection_model.h5')"
   ]
  },
  {
   "cell_type": "code",
   "execution_count": 4,
   "id": "2774e508",
   "metadata": {},
   "outputs": [],
   "source": [
    "# Define the size of the input images\n",
    "img_size = (224, 224)"
   ]
  },
  {
   "cell_type": "code",
   "execution_count": 5,
   "id": "35e5bc6b",
   "metadata": {},
   "outputs": [],
   "source": [
    "# Define a function to preprocess the input image\n",
    "def preprocess_image(img):\n",
    "    img = cv2.resize(img, img_size)\n",
    "    img = np.expand_dims(img, axis=0)\n",
    "    img = img / 255.0\n",
    "    return img"
   ]
  },
  {
   "cell_type": "code",
   "execution_count": 6,
   "id": "52c11d11",
   "metadata": {},
   "outputs": [],
   "source": [
    "# Define the Streamlit app\n",
    "def app():\n",
    "    st.title('Skin Cancer Detection App')\n",
    "\n",
    "    # Allow the user to upload an image\n",
    "    uploaded_file = st.file_uploader('Choose an image', type=['jpg', 'jpeg', 'png'])\n",
    "    if uploaded_file is not None:\n",
    "        # Read the image\n",
    "        img = cv2.imdecode(np.fromstring(uploaded_file.read(), np.uint8), 1)\n",
    "        # Display the image\n",
    "        st.image(img, caption='Uploaded Image', use_column_width=True)\n",
    "        # Preprocess the image\n",
    "        img = preprocess_image(img)\n",
    "\n",
    "        # Make a prediction\n",
    "        pred = model.predict(img)\n",
    "        pred_label = 'Cancer' if pred[0][0] > 0.5 else 'Not Cancer'\n",
    "        pred_prob = pred[0][0]\n",
    "        \n",
    "        # Show the prediction result\n",
    "        st.write(f'Prediction: {pred_label}')\n",
    "        st.write(f'Probability Of Skin Cancer: {pred_prob:.2f}')"
   ]
  },
  {
   "cell_type": "code",
   "execution_count": 7,
   "id": "e5a65529",
   "metadata": {},
   "outputs": [
    {
     "name": "stderr",
     "output_type": "stream",
     "text": [
      "2024-07-20 14:51:15.210 \n",
      "  \u001b[33m\u001b[1mWarning:\u001b[0m to view this Streamlit app on a browser, run it with the following\n",
      "  command:\n",
      "\n",
      "    streamlit run C:\\Users\\rishb\\anaconda3\\lib\\site-packages\\ipykernel_launcher.py [ARGUMENTS]\n"
     ]
    }
   ],
   "source": [
    "# Run the app\n",
    "if __name__ == '__main__':\n",
    "    app()"
   ]
  },
  {
   "cell_type": "code",
   "execution_count": 8,
   "id": "c3b46512",
   "metadata": {},
   "outputs": [
    {
     "name": "stderr",
     "output_type": "stream",
     "text": [
      "Usage: streamlit run [OPTIONS] TARGET [ARGS]...\n",
      "Try 'streamlit run --help' for help.\n",
      "\n",
      "Error: Invalid value: File does not exist: predict-image.py\n"
     ]
    }
   ],
   "source": [
    "!streamlit run predict-image.py"
   ]
  },
  {
   "cell_type": "code",
   "execution_count": null,
   "id": "d4bc4027",
   "metadata": {},
   "outputs": [],
   "source": [
    "import subprocess\n",
    "\n",
    "# Path to your Streamlit app\n",
    "streamlit_script = \"C:\\\\Users\\\\rishb\\\\Desktop\\\\Detection of skin cancer project\\\\predict-imae.py\"\n",
    "\n",
    "# Command to run Streamlit\n",
    "command = f\"streamlit run {streamlit_script}\"\n",
    "\n",
    "# Run the command\n",
    "process = subprocess.Popen(command, shell=True)\n",
    "\n",
    "# Display the Streamlit URL\n",
    "print(\"Streamlit app is running. Open your browser to http://localhost:8501 to view it.\")"
   ]
  }
 ],
 "metadata": {
  "kernelspec": {
   "display_name": "Python 3 (ipykernel)",
   "language": "python",
   "name": "python3"
  },
  "language_info": {
   "codemirror_mode": {
    "name": "ipython",
    "version": 3
   },
   "file_extension": ".py",
   "mimetype": "text/x-python",
   "name": "python",
   "nbconvert_exporter": "python",
   "pygments_lexer": "ipython3",
   "version": "3.10.9"
  }
 },
 "nbformat": 4,
 "nbformat_minor": 5
}
